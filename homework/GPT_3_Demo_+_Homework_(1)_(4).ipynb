{
  "nbformat": 4,
  "nbformat_minor": 0,
  "metadata": {
    "colab": {
      "provenance": []
    },
    "kernelspec": {
      "name": "python3",
      "display_name": "Python 3"
    },
    "language_info": {
      "name": "python"
    }
  },
  "cells": [
    {
      "cell_type": "markdown",
      "source": [
        "Demo"
      ],
      "metadata": {
        "id": "e7gWaLi8a_AF"
      }
    },
    {
      "cell_type": "code",
      "source": [
        "# First Part of Demo on the website: https://openai.com"
      ],
      "metadata": {
        "id": "116swXvC4bEI"
      },
      "execution_count": null,
      "outputs": []
    },
    {
      "cell_type": "code",
      "source": [
        "# Auto Regressive: for NLG purposes"
      ],
      "metadata": {
        "id": "OtQX8ujrGqsJ"
      },
      "execution_count": null,
      "outputs": []
    },
    {
      "cell_type": "code",
      "source": [
        "# Few Shot Learning"
      ],
      "metadata": {
        "id": "ogmU9FYlGv6Q"
      },
      "execution_count": null,
      "outputs": []
    },
    {
      "cell_type": "code",
      "source": [
        "# Completion, Fine Tuning, Embeddings"
      ],
      "metadata": {
        "id": "KSabd5MZ5RK3"
      },
      "execution_count": null,
      "outputs": []
    },
    {
      "cell_type": "code",
      "source": [
        "# Da-vinci, Curie, Babbage, Ada"
      ],
      "metadata": {
        "id": "1Du3sCzr5JQW"
      },
      "execution_count": null,
      "outputs": []
    },
    {
      "cell_type": "code",
      "source": [
        "!pip install openai"
      ],
      "metadata": {
        "colab": {
          "base_uri": "https://localhost:8080/",
          "height": 642
        },
        "id": "P_8jn1VnWcha",
        "outputId": "7439db44-3937-47d9-fd05-4ebd60647cf0"
      },
      "execution_count": null,
      "outputs": [
        {
          "output_type": "stream",
          "name": "stdout",
          "text": [
            "Looking in indexes: https://pypi.org/simple, https://us-python.pkg.dev/colab-wheels/public/simple/\n",
            "Collecting openai\n",
            "  Downloading openai-0.23.1.tar.gz (43 kB)\n",
            "\u001b[K     |████████████████████████████████| 43 kB 1.5 MB/s \n",
            "\u001b[?25h  Installing build dependencies ... \u001b[?25l\u001b[?25hdone\n",
            "  Getting requirements to build wheel ... \u001b[?25l\u001b[?25hdone\n",
            "    Preparing wheel metadata ... \u001b[?25l\u001b[?25hdone\n",
            "Requirement already satisfied: openpyxl>=3.0.7 in /usr/local/lib/python3.7/dist-packages (from openai) (3.0.10)\n",
            "Requirement already satisfied: requests>=2.20 in /usr/local/lib/python3.7/dist-packages (from openai) (2.23.0)\n",
            "Requirement already satisfied: typing-extensions in /usr/local/lib/python3.7/dist-packages (from openai) (4.1.1)\n",
            "Requirement already satisfied: pandas>=1.2.3 in /usr/local/lib/python3.7/dist-packages (from openai) (1.3.5)\n",
            "Collecting pandas-stubs>=1.1.0.11\n",
            "  Downloading pandas_stubs-1.2.0.62-py3-none-any.whl (163 kB)\n",
            "\u001b[K     |████████████████████████████████| 163 kB 8.9 MB/s \n",
            "\u001b[?25hRequirement already satisfied: numpy in /usr/local/lib/python3.7/dist-packages (from openai) (1.21.6)\n",
            "Requirement already satisfied: tqdm in /usr/local/lib/python3.7/dist-packages (from openai) (4.64.1)\n",
            "Requirement already satisfied: et-xmlfile in /usr/local/lib/python3.7/dist-packages (from openpyxl>=3.0.7->openai) (1.1.0)\n",
            "Requirement already satisfied: python-dateutil>=2.7.3 in /usr/local/lib/python3.7/dist-packages (from pandas>=1.2.3->openai) (2.8.2)\n",
            "Requirement already satisfied: pytz>=2017.3 in /usr/local/lib/python3.7/dist-packages (from pandas>=1.2.3->openai) (2022.4)\n",
            "Requirement already satisfied: six>=1.5 in /usr/local/lib/python3.7/dist-packages (from python-dateutil>=2.7.3->pandas>=1.2.3->openai) (1.15.0)\n",
            "Requirement already satisfied: certifi>=2017.4.17 in /usr/local/lib/python3.7/dist-packages (from requests>=2.20->openai) (2022.9.24)\n",
            "Requirement already satisfied: idna<3,>=2.5 in /usr/local/lib/python3.7/dist-packages (from requests>=2.20->openai) (2.10)\n",
            "Requirement already satisfied: chardet<4,>=3.0.2 in /usr/local/lib/python3.7/dist-packages (from requests>=2.20->openai) (3.0.4)\n",
            "Requirement already satisfied: urllib3!=1.25.0,!=1.25.1,<1.26,>=1.21.1 in /usr/local/lib/python3.7/dist-packages (from requests>=2.20->openai) (1.24.3)\n",
            "Building wheels for collected packages: openai\n",
            "  Building wheel for openai (PEP 517) ... \u001b[?25l\u001b[?25hdone\n",
            "  Created wheel for openai: filename=openai-0.23.1-py3-none-any.whl size=54527 sha256=22939838ceb55180284e705e2ac6b8bfd14e210d88546d77e8fbc3526e187c49\n",
            "  Stored in directory: /root/.cache/pip/wheels/5f/f5/69/860bc773610989840e34f3352d39a4651a76f509cf1610bf22\n",
            "Successfully built openai\n",
            "Installing collected packages: pandas-stubs, openai\n",
            "Successfully installed openai-0.23.1 pandas-stubs-1.2.0.62\n"
          ]
        },
        {
          "output_type": "display_data",
          "data": {
            "application/vnd.colab-display-data+json": {
              "pip_warning": {
                "packages": [
                  "pandas"
                ]
              }
            }
          },
          "metadata": {}
        }
      ]
    },
    {
      "cell_type": "code",
      "execution_count": null,
      "metadata": {
        "id": "lE6ZUXuo3rxZ"
      },
      "outputs": [],
      "source": [
        "# importing required libraries and setting up the openai api key\n",
        "import os\n",
        "import numpy as np\n",
        "import pandas as pd\n",
        "import openai\n",
        "\n",
        "#add personal key\n",
        "openai.api_key = 
      ]
    },
    {
      "cell_type": "code",
      "source": [
        "# Using completion end point for few shot learning\n",
        "prompt = \"Classify text into one of the following categories: Inquiry, Salutation. \\n\\nText: \\\"I got stuck when trying to hire somebody\\\"\\nCategory: Inquiry\\n\\nText: \\\"Hello\\\"\\nCategory: Salutation\\n\\nText: \"\n",
        "\n",
        "prompt = prompt + \"Where is new york?\" + \"\\\"\\nCategory:\"\n",
        "\n",
        "response = openai.Completion.create(\n",
        "  model = \"text-davinci-002\",\n",
        "  prompt = prompt,\n",
        "  temperature = 0,\n",
        "  max_tokens = 6,\n",
        "  top_p = 1,\n",
        "  frequency_penalty = 0,\n",
        "  presence_penalty = 0\n",
        ")"
      ],
      "metadata": {
        "id": "qhi7YLLz46J-"
      },
      "execution_count": null,
      "outputs": []
    },
    {
      "cell_type": "code",
      "source": [
        "response"
      ],
      "metadata": {
        "colab": {
          "base_uri": "https://localhost:8080/"
        },
        "id": "-XOxEN8eWWTv",
        "outputId": "617915d4-085b-45aa-e9e9-91979d715ee7"
      },
      "execution_count": null,
      "outputs": [
        {
          "output_type": "execute_result",
          "data": {
            "text/plain": [
              "<OpenAIObject text_completion id=cmpl-63CVB9i58J1Wb31m8TaJwvHCrftZV at 0x7f8d7056cef0> JSON: {\n",
              "  \"choices\": [\n",
              "    {\n",
              "      \"finish_reason\": \"stop\",\n",
              "      \"index\": 0,\n",
              "      \"logprobs\": null,\n",
              "      \"text\": \" Inquiry\"\n",
              "    }\n",
              "  ],\n",
              "  \"created\": 1666221061,\n",
              "  \"id\": \"cmpl-63CVB9i58J1Wb31m8TaJwvHCrftZV\",\n",
              "  \"model\": \"text-davinci-002\",\n",
              "  \"object\": \"text_completion\",\n",
              "  \"usage\": {\n",
              "    \"completion_tokens\": 1,\n",
              "    \"prompt_tokens\": 59,\n",
              "    \"total_tokens\": 60\n",
              "  }\n",
              "}"
            ]
          },
          "metadata": {},
          "execution_count": 7
        }
      ]
    },
    {
      "cell_type": "code",
      "source": [
        "# Using completion end point for few shot learning\n",
        "prompt = \"Tell me something about Mahatma Gandhi\"\n",
        "\n",
        "response = openai.Completion.create(\n",
        "  model = \"text-davinci-002\",\n",
        "  prompt = prompt,\n",
        "  temperature = 1,\n",
        "  max_tokens = 600,\n",
        "  top_p = 1,\n",
        "  frequency_penalty = 0,\n",
        "  presence_penalty = 0\n",
        ")"
      ],
      "metadata": {
        "id": "bDgdcyxHaQ2Q"
      },
      "execution_count": null,
      "outputs": []
    },
    {
      "cell_type": "code",
      "source": [
        "response"
      ],
      "metadata": {
        "colab": {
          "base_uri": "https://localhost:8080/"
        },
        "id": "Srcavj1raRB5",
        "outputId": "06324eb4-8512-4608-8951-364805eef6f8"
      },
      "execution_count": null,
      "outputs": [
        {
          "output_type": "execute_result",
          "data": {
            "text/plain": [
              "<OpenAIObject text_completion id=cmpl-5TIB7ad3HFgMCxXuo1IttfgGVUehU at 0x7f93cb859e90> JSON: {\n",
              "  \"choices\": [\n",
              "    {\n",
              "      \"finish_reason\": \"stop\",\n",
              "      \"index\": 0,\n",
              "      \"logprobs\": null,\n",
              "      \"text\": \"\\n\\nGandhi was an Indian political leader who fought for India's independence from British rule. After years of peaceful protests and civil disobedience, Gandhi helped lead India to independence in 1947. He is also celebrated for his philosophy of nonviolent resistance.\"\n",
              "    }\n",
              "  ],\n",
              "  \"created\": 1657663073,\n",
              "  \"id\": \"cmpl-5TIB7ad3HFgMCxXuo1IttfgGVUehU\",\n",
              "  \"model\": \"text-davinci-002\",\n",
              "  \"object\": \"text_completion\",\n",
              "  \"usage\": {\n",
              "    \"completion_tokens\": 56,\n",
              "    \"prompt_tokens\": 8,\n",
              "    \"total_tokens\": 64\n",
              "  }\n",
              "}"
            ]
          },
          "metadata": {},
          "execution_count": 10
        }
      ]
    },
    {
      "cell_type": "markdown",
      "source": [
        "# Homework"
      ],
      "metadata": {
        "id": "gxHPNXXDbEac"
      }
    },
    {
      "cell_type": "markdown",
      "source": [
        "## Demonstrate the use of Fine tunes API to classify tweets into positive and negative sentiment"
      ],
      "metadata": {
        "id": "jnVlZl8yzRLY"
      }
    },
    {
      "cell_type": "code",
      "source": [
        "#!pip install openai\n",
        "import os\n",
        "import numpy as np\n",
        "import pandas as pd\n",
        "import openai\n"
      ],
      "metadata": {
        "id": "YLCKupXzkAyn"
      },
      "execution_count": null,
      "outputs": []
    },
    {
      "cell_type": "code",
      "source": [
        "from sklearn.model_selection import train_test_split\n",
        "\n",
        "df_twitter = pd.read_csv('TwitterTrain.csv')\n",
        "df_twitter = df_twitter.drop(['id', 'keyword','location'], axis = 1)\n",
        "df_twitter.head()\n",
        "\n",
        "import re\n",
        "import string\n",
        "def RemovePunctuation(text):\n",
        "    return text.translate(str.maketrans('', '', string.punctuation))\n",
        "\n",
        "def removeHTML(text):\n",
        "    html = re.compile(r\"<.*?>|&([a-z0-9]+|#[0-9]{1,6}|#x[0-9a-f]{1,6});\")\n",
        "    return re.sub(html, \"\", text)\n",
        "\n",
        "def removeEmojis(text):\n",
        "    emoji_pattern = re.compile(\"[\"\n",
        "                       u\"\\U0001F600-\\U0001F64F\"  # emoticons\n",
        "                       u\"\\U0001F300-\\U0001F5FF\"  # symbols & pictographs\n",
        "                       u\"\\U0001F680-\\U0001F6FF\"  # transport & map symbols\n",
        "                       u\"\\U0001F1E0-\\U0001F1FF\"  # flags (iOS)\n",
        "                       u\"\\U00002702-\\U000027B0\"\n",
        "                       u\"\\U000024C2-\\U0001F251\"\n",
        "                       u\"\\U0001f926-\\U0001f937\"\n",
        "                       u\"\\u200d\"\n",
        "                       u\"\\u2640-\\u2642\"\n",
        "                       \"]+\", flags=re.UNICODE)\n",
        "    return emoji_pattern.sub(r'', text)\n",
        "\n",
        "def RemoveASCII(text):\n",
        "  return re.sub(r'[^\\x00-\\x7f]', \"\", text)\n",
        "\n",
        "df_twitter[\"CleanText\"] = df_twitter[\"text\"].apply(lambda x: x.lower())\n",
        "df_twitter[\"CleanText\"] = df_twitter[\"CleanText\"].apply(lambda x: re.sub(r\"https?://\\S+|www\\.\\S+\", \"\",x))\n",
        "df_twitter[\"CleanText\"] = df_twitter[\"CleanText\"].apply(lambda x: removeHTML(x))\n",
        "df_twitter[\"CleanText\"] = df_twitter[\"CleanText\"].apply(lambda x: removeEmojis(x))\n",
        "df_twitter[\"CleanText\"] = df_twitter[\"CleanText\"].apply(lambda x: RemovePunctuation(x))\n",
        "df_twitter[\"CleanText\"] = df_twitter[\"CleanText\"].apply(lambda x: RemoveASCII(x))\n",
        "df_twitter = df_twitter.drop(['text'], axis = 1)\n",
        "df_twitter = df_twitter.rename(columns={'CleanText': 'prompt', 'target': 'completion'})\n",
        "\n",
        "df_twitter"
      ],
      "metadata": {
        "colab": {
          "base_uri": "https://localhost:8080/",
          "height": 424
        },
        "id": "EiUNLx8BjGTt",
        "outputId": "3ef52b3f-1460-4adb-c09d-398bccaf69f9"
      },
      "execution_count": null,
      "outputs": [
        {
          "output_type": "execute_result",
          "data": {
            "text/plain": [
              "      completion                                             prompt\n",
              "0              1  our deeds are the reason of this earthquake ma...\n",
              "1              1              forest fire near la ronge sask canada\n",
              "2              1  all residents asked to shelter in place are be...\n",
              "3              1  13000 people receive wildfires evacuation orde...\n",
              "4              1  just got sent this photo from ruby alaska as s...\n",
              "...          ...                                                ...\n",
              "7608           1  two giant cranes holding a bridge collapse int...\n",
              "7609           1  ariaahrary thetawniest the out of control wild...\n",
              "7610           1              m194 0104 utc5km s of volcano hawaii \n",
              "7611           1  police investigating after an ebike collided w...\n",
              "7612           1  the latest more homes razed by northern califo...\n",
              "\n",
              "[7613 rows x 2 columns]"
            ],
            "text/html": [
              "\n",
              "  <div id=\"df-335d6862-58ca-4a5f-b520-80e0f4ea7400\">\n",
              "    <div class=\"colab-df-container\">\n",
              "      <div>\n",
              "<style scoped>\n",
              "    .dataframe tbody tr th:only-of-type {\n",
              "        vertical-align: middle;\n",
              "    }\n",
              "\n",
              "    .dataframe tbody tr th {\n",
              "        vertical-align: top;\n",
              "    }\n",
              "\n",
              "    .dataframe thead th {\n",
              "        text-align: right;\n",
              "    }\n",
              "</style>\n",
              "<table border=\"1\" class=\"dataframe\">\n",
              "  <thead>\n",
              "    <tr style=\"text-align: right;\">\n",
              "      <th></th>\n",
              "      <th>completion</th>\n",
              "      <th>prompt</th>\n",
              "    </tr>\n",
              "  </thead>\n",
              "  <tbody>\n",
              "    <tr>\n",
              "      <th>0</th>\n",
              "      <td>1</td>\n",
              "      <td>our deeds are the reason of this earthquake ma...</td>\n",
              "    </tr>\n",
              "    <tr>\n",
              "      <th>1</th>\n",
              "      <td>1</td>\n",
              "      <td>forest fire near la ronge sask canada</td>\n",
              "    </tr>\n",
              "    <tr>\n",
              "      <th>2</th>\n",
              "      <td>1</td>\n",
              "      <td>all residents asked to shelter in place are be...</td>\n",
              "    </tr>\n",
              "    <tr>\n",
              "      <th>3</th>\n",
              "      <td>1</td>\n",
              "      <td>13000 people receive wildfires evacuation orde...</td>\n",
              "    </tr>\n",
              "    <tr>\n",
              "      <th>4</th>\n",
              "      <td>1</td>\n",
              "      <td>just got sent this photo from ruby alaska as s...</td>\n",
              "    </tr>\n",
              "    <tr>\n",
              "      <th>...</th>\n",
              "      <td>...</td>\n",
              "      <td>...</td>\n",
              "    </tr>\n",
              "    <tr>\n",
              "      <th>7608</th>\n",
              "      <td>1</td>\n",
              "      <td>two giant cranes holding a bridge collapse int...</td>\n",
              "    </tr>\n",
              "    <tr>\n",
              "      <th>7609</th>\n",
              "      <td>1</td>\n",
              "      <td>ariaahrary thetawniest the out of control wild...</td>\n",
              "    </tr>\n",
              "    <tr>\n",
              "      <th>7610</th>\n",
              "      <td>1</td>\n",
              "      <td>m194 0104 utc5km s of volcano hawaii</td>\n",
              "    </tr>\n",
              "    <tr>\n",
              "      <th>7611</th>\n",
              "      <td>1</td>\n",
              "      <td>police investigating after an ebike collided w...</td>\n",
              "    </tr>\n",
              "    <tr>\n",
              "      <th>7612</th>\n",
              "      <td>1</td>\n",
              "      <td>the latest more homes razed by northern califo...</td>\n",
              "    </tr>\n",
              "  </tbody>\n",
              "</table>\n",
              "<p>7613 rows × 2 columns</p>\n",
              "</div>\n",
              "      <button class=\"colab-df-convert\" onclick=\"convertToInteractive('df-335d6862-58ca-4a5f-b520-80e0f4ea7400')\"\n",
              "              title=\"Convert this dataframe to an interactive table.\"\n",
              "              style=\"display:none;\">\n",
              "        \n",
              "  <svg xmlns=\"http://www.w3.org/2000/svg\" height=\"24px\"viewBox=\"0 0 24 24\"\n",
              "       width=\"24px\">\n",
              "    <path d=\"M0 0h24v24H0V0z\" fill=\"none\"/>\n",
              "    <path d=\"M18.56 5.44l.94 2.06.94-2.06 2.06-.94-2.06-.94-.94-2.06-.94 2.06-2.06.94zm-11 1L8.5 8.5l.94-2.06 2.06-.94-2.06-.94L8.5 2.5l-.94 2.06-2.06.94zm10 10l.94 2.06.94-2.06 2.06-.94-2.06-.94-.94-2.06-.94 2.06-2.06.94z\"/><path d=\"M17.41 7.96l-1.37-1.37c-.4-.4-.92-.59-1.43-.59-.52 0-1.04.2-1.43.59L10.3 9.45l-7.72 7.72c-.78.78-.78 2.05 0 2.83L4 21.41c.39.39.9.59 1.41.59.51 0 1.02-.2 1.41-.59l7.78-7.78 2.81-2.81c.8-.78.8-2.07 0-2.86zM5.41 20L4 18.59l7.72-7.72 1.47 1.35L5.41 20z\"/>\n",
              "  </svg>\n",
              "      </button>\n",
              "      \n",
              "  <style>\n",
              "    .colab-df-container {\n",
              "      display:flex;\n",
              "      flex-wrap:wrap;\n",
              "      gap: 12px;\n",
              "    }\n",
              "\n",
              "    .colab-df-convert {\n",
              "      background-color: #E8F0FE;\n",
              "      border: none;\n",
              "      border-radius: 50%;\n",
              "      cursor: pointer;\n",
              "      display: none;\n",
              "      fill: #1967D2;\n",
              "      height: 32px;\n",
              "      padding: 0 0 0 0;\n",
              "      width: 32px;\n",
              "    }\n",
              "\n",
              "    .colab-df-convert:hover {\n",
              "      background-color: #E2EBFA;\n",
              "      box-shadow: 0px 1px 2px rgba(60, 64, 67, 0.3), 0px 1px 3px 1px rgba(60, 64, 67, 0.15);\n",
              "      fill: #174EA6;\n",
              "    }\n",
              "\n",
              "    [theme=dark] .colab-df-convert {\n",
              "      background-color: #3B4455;\n",
              "      fill: #D2E3FC;\n",
              "    }\n",
              "\n",
              "    [theme=dark] .colab-df-convert:hover {\n",
              "      background-color: #434B5C;\n",
              "      box-shadow: 0px 1px 3px 1px rgba(0, 0, 0, 0.15);\n",
              "      filter: drop-shadow(0px 1px 2px rgba(0, 0, 0, 0.3));\n",
              "      fill: #FFFFFF;\n",
              "    }\n",
              "  </style>\n",
              "\n",
              "      <script>\n",
              "        const buttonEl =\n",
              "          document.querySelector('#df-335d6862-58ca-4a5f-b520-80e0f4ea7400 button.colab-df-convert');\n",
              "        buttonEl.style.display =\n",
              "          google.colab.kernel.accessAllowed ? 'block' : 'none';\n",
              "\n",
              "        async function convertToInteractive(key) {\n",
              "          const element = document.querySelector('#df-335d6862-58ca-4a5f-b520-80e0f4ea7400');\n",
              "          const dataTable =\n",
              "            await google.colab.kernel.invokeFunction('convertToInteractive',\n",
              "                                                     [key], {});\n",
              "          if (!dataTable) return;\n",
              "\n",
              "          const docLinkHtml = 'Like what you see? Visit the ' +\n",
              "            '<a target=\"_blank\" href=https://colab.research.google.com/notebooks/data_table.ipynb>data table notebook</a>'\n",
              "            + ' to learn more about interactive tables.';\n",
              "          element.innerHTML = '';\n",
              "          dataTable['output_type'] = 'display_data';\n",
              "          await google.colab.output.renderOutput(dataTable, element);\n",
              "          const docLink = document.createElement('div');\n",
              "          docLink.innerHTML = docLinkHtml;\n",
              "          element.appendChild(docLink);\n",
              "        }\n",
              "      </script>\n",
              "    </div>\n",
              "  </div>\n",
              "  "
            ]
          },
          "metadata": {},
          "execution_count": 8
        }
      ]
    },
    {
      "cell_type": "code",
      "source": [
        "df_twitter.to_json(\"twitter.jsonl\", orient='records', lines=True)\n"
      ],
      "metadata": {
        "id": "25DlLLZ7lFrt"
      },
      "execution_count": null,
      "outputs": []
    },
    {
      "cell_type": "code",
      "source": [
        "!pip install --upgrade openai\n",
        "\n"
      ],
      "metadata": {
        "colab": {
          "base_uri": "https://localhost:8080/"
        },
        "id": "nL8y1aAgkaOc",
        "outputId": "96826efe-6da9-4c87-f750-6dfb77eeaed3"
      },
      "execution_count": null,
      "outputs": [
        {
          "output_type": "stream",
          "name": "stdout",
          "text": [
            "Looking in indexes: https://pypi.org/simple, https://us-python.pkg.dev/colab-wheels/public/simple/\n",
            "Requirement already satisfied: openai in /usr/local/lib/python3.7/dist-packages (0.23.1)\n",
            "Requirement already satisfied: numpy in /usr/local/lib/python3.7/dist-packages (from openai) (1.21.6)\n",
            "Requirement already satisfied: pandas-stubs>=1.1.0.11 in /usr/local/lib/python3.7/dist-packages (from openai) (1.2.0.62)\n",
            "Requirement already satisfied: openpyxl>=3.0.7 in /usr/local/lib/python3.7/dist-packages (from openai) (3.0.10)\n",
            "Requirement already satisfied: pandas>=1.2.3 in /usr/local/lib/python3.7/dist-packages (from openai) (1.3.5)\n",
            "Requirement already satisfied: requests>=2.20 in /usr/local/lib/python3.7/dist-packages (from openai) (2.23.0)\n",
            "Requirement already satisfied: tqdm in /usr/local/lib/python3.7/dist-packages (from openai) (4.64.1)\n",
            "Requirement already satisfied: typing-extensions in /usr/local/lib/python3.7/dist-packages (from openai) (4.1.1)\n",
            "Requirement already satisfied: et-xmlfile in /usr/local/lib/python3.7/dist-packages (from openpyxl>=3.0.7->openai) (1.1.0)\n",
            "Requirement already satisfied: pytz>=2017.3 in /usr/local/lib/python3.7/dist-packages (from pandas>=1.2.3->openai) (2022.4)\n",
            "Requirement already satisfied: python-dateutil>=2.7.3 in /usr/local/lib/python3.7/dist-packages (from pandas>=1.2.3->openai) (2.8.2)\n",
            "Requirement already satisfied: six>=1.5 in /usr/local/lib/python3.7/dist-packages (from python-dateutil>=2.7.3->pandas>=1.2.3->openai) (1.15.0)\n",
            "Requirement already satisfied: certifi>=2017.4.17 in /usr/local/lib/python3.7/dist-packages (from requests>=2.20->openai) (2022.9.24)\n",
            "Requirement already satisfied: idna<3,>=2.5 in /usr/local/lib/python3.7/dist-packages (from requests>=2.20->openai) (2.10)\n",
            "Requirement already satisfied: chardet<4,>=3.0.2 in /usr/local/lib/python3.7/dist-packages (from requests>=2.20->openai) (3.0.4)\n",
            "Requirement already satisfied: urllib3!=1.25.0,!=1.25.1,<1.26,>=1.21.1 in /usr/local/lib/python3.7/dist-packages (from requests>=2.20->openai) (1.24.3)\n"
          ]
        }
      ]
    },
    {
      "cell_type": "code",
      "source": [
        "!openai tools fine_tunes.prepare_data -f twitter.jsonl -q"
      ],
      "metadata": {
        "colab": {
          "base_uri": "https://localhost:8080/"
        },
        "id": "-s-4UyTpkVPn",
        "outputId": "7dad4e81-9ea2-4864-a20d-5b17e7bc3170"
      },
      "execution_count": null,
      "outputs": [
        {
          "output_type": "stream",
          "name": "stdout",
          "text": [
            "Analyzing...\n",
            "\n",
            "- Your file contains 7613 prompt-completion pairs\n",
            "- Based on your data it seems like you're trying to fine-tune a model for classification\n",
            "- For classification, we recommend you try one of the faster and cheaper models, such as `ada`\n",
            "- For classification, you can estimate the expected model performance by keeping a held out dataset, which is not used for training\n",
            "- There are 596 duplicated prompt-completion sets. These are rows: [48, 106, 114, 115, 116, 118, 119, 131, 159, 164, 183, 186, 190, 191, 192, 193, 197, 201, 202, 204, 207, 220, 238, 250, 253, 259, 266, 270, 271, 376, 377, 379, 387, 402, 403, 405, 406, 411, 417, 491, 492, 495, 499, 500, 504, 505, 506, 508, 510, 511, 512, 514, 516, 532, 597, 601, 603, 604, 607, 608, 630, 634, 683, 953, 958, 962, 970, 971, 972, 977, 980, 981, 983, 1075, 1090, 1142, 1145, 1146, 1147, 1151, 1156, 1173, 1179, 1180, 1184, 1185, 1191, 1193, 1251, 1332, 1335, 1343, 1345, 1356, 1360, 1374, 1384, 1390, 1425, 1502, 1503, 1506, 1510, 1515, 1516, 1518, 1519, 1522, 1534, 1549, 1551, 1583, 1618, 1623, 1650, 1725, 1733, 1748, 1750, 1773, 1902, 1967, 2110, 2156, 2168, 2170, 2173, 2175, 2182, 2189, 2278, 2317, 2323, 2352, 2377, 2386, 2391, 2441, 2449, 2452, 2454, 2456, 2466, 2475, 2477, 2602, 2630, 2634, 2655, 2666, 2674, 2679, 2692, 2710, 2723, 2724, 2725, 2726, 2728, 2744, 2752, 2753, 2757, 2759, 2762, 2770, 2771, 2775, 2828, 2830, 2831, 2833, 2837, 2841, 2846, 2934, 2950, 2959, 2966, 2981, 2998, 3022, 3025, 3093, 3239, 3242, 3248, 3250, 3251, 3258, 3261, 3265, 3266, 3267, 3268, 3269, 3270, 3357, 3374, 3382, 3390, 3414, 3418, 3426, 3429, 3451, 3461, 3489, 3493, 3494, 3501, 3529, 3535, 3551, 3556, 3589, 3591, 3597, 3600, 3602, 3603, 3604, 3610, 3611, 3613, 3614, 3615, 3670, 3690, 3795, 3827, 3840, 3852, 3863, 3872, 3910, 3921, 3930, 3933, 3936, 3937, 3938, 3941, 3945, 3960, 4019, 4032, 4083, 4098, 4239, 4243, 4247, 4286, 4291, 4299, 4303, 4304, 4308, 4309, 4310, 4313, 4318, 4331, 4339, 4346, 4350, 4351, 4352, 4364, 4365, 4366, 4369, 4370, 4377, 4386, 4393, 4394, 4396, 4397, 4398, 4399, 4400, 4403, 4404, 4405, 4407, 4408, 4412, 4414, 4415, 4416, 4418, 4420, 4437, 4439, 4454, 4461, 4462, 4465, 4475, 4480, 4483, 4485, 4486, 4494, 4513, 4519, 4521, 4556, 4561, 4601, 4605, 4626, 4629, 4631, 4639, 4761, 4834, 4920, 4930, 4933, 4936, 4938, 4942, 4988, 4997, 5000, 5001, 5073, 5079, 5093, 5099, 5109, 5138, 5180, 5201, 5208, 5224, 5229, 5238, 5248, 5249, 5250, 5251, 5259, 5269, 5270, 5271, 5274, 5276, 5277, 5279, 5282, 5287, 5290, 5291, 5292, 5293, 5294, 5295, 5299, 5300, 5302, 5304, 5305, 5306, 5307, 5310, 5314, 5315, 5317, 5324, 5333, 5334, 5338, 5342, 5345, 5347, 5349, 5404, 5423, 5474, 5476, 5480, 5487, 5489, 5490, 5491, 5493, 5495, 5496, 5501, 5504, 5510, 5516, 5517, 5518, 5526, 5527, 5531, 5533, 5534, 5562, 5583, 5584, 5587, 5588, 5589, 5590, 5591, 5593, 5594, 5595, 5597, 5598, 5599, 5604, 5605, 5606, 5608, 5609, 5610, 5611, 5634, 5635, 5646, 5655, 5660, 5665, 5670, 5681, 5705, 5708, 5709, 5718, 5719, 5720, 5721, 5723, 5725, 5730, 5731, 5734, 5739, 5771, 5833, 5837, 5877, 5879, 5881, 5882, 5883, 5884, 5885, 5888, 5889, 5890, 5891, 5894, 5895, 5896, 5897, 5898, 5900, 5901, 5903, 5904, 5905, 5907, 5911, 6067, 6097, 6103, 6113, 6118, 6119, 6123, 6125, 6247, 6318, 6322, 6325, 6343, 6345, 6356, 6365, 6366, 6368, 6373, 6374, 6377, 6378, 6379, 6383, 6384, 6385, 6387, 6390, 6392, 6419, 6424, 6426, 6444, 6445, 6449, 6455, 6488, 6573, 6582, 6591, 6602, 6618, 6620, 6623, 6626, 6656, 6657, 6740, 6770, 6784, 6792, 6799, 6801, 6806, 6807, 6808, 6828, 6834, 6840, 6841, 6842, 6843, 6956, 7021, 7023, 7024, 7026, 7028, 7030, 7034, 7035, 7036, 7038, 7046, 7047, 7048, 7053, 7054, 7068, 7077, 7088, 7091, 7123, 7135, 7141, 7193, 7245, 7246, 7251, 7378, 7379, 7411, 7413, 7425, 7434, 7507, 7509, 7511, 7512, 7516, 7517, 7519, 7520, 7524, 7526, 7527, 7528, 7529, 7532, 7533, 7534, 7536, 7537, 7538, 7539, 7540, 7541, 7543, 7583, 7600, 7607, 7608, 7609, 7610, 7611, 7612]\n",
            "- Your data does not contain a common separator at the end of your prompts. Having a separator string appended to the end of the prompt makes it clearer to the fine-tuned model where the completion should begin. See https://beta.openai.com/docs/guides/fine-tuning/preparing-your-dataset for more detail and examples. If you intend to do open-ended generation, then you should leave the prompts empty\n",
            "- The completion should start with a whitespace character (` `). This tends to produce better results due to the tokenization we use. See https://beta.openai.com/docs/guides/fine-tuning/preparing-your-dataset for more details\n",
            "\n",
            "Based on the analysis we will perform the following actions:\n",
            "- [Recommended] Remove 596 duplicate rows [Y/n]: Y\n",
            "- [Recommended] Add a suffix separator `\\n\\n###\\n\\n` to all prompts [Y/n]: Y\n",
            "/usr/local/lib/python3.7/dist-packages/openai/validators.py:215: SettingWithCopyWarning: \n",
            "A value is trying to be set on a copy of a slice from a DataFrame.\n",
            "Try using .loc[row_indexer,col_indexer] = value instead\n",
            "\n",
            "See the caveats in the documentation: https://pandas.pydata.org/pandas-docs/stable/user_guide/indexing.html#returning-a-view-versus-a-copy\n",
            "  x[\"prompt\"] += suffix\n",
            "- [Recommended] Add a whitespace character to the beginning of the completion [Y/n]: Y\n",
            "/usr/local/lib/python3.7/dist-packages/openai/validators.py:415: SettingWithCopyWarning: \n",
            "A value is trying to be set on a copy of a slice from a DataFrame.\n",
            "Try using .loc[row_indexer,col_indexer] = value instead\n",
            "\n",
            "See the caveats in the documentation: https://pandas.pydata.org/pandas-docs/stable/user_guide/indexing.html#returning-a-view-versus-a-copy\n",
            "  lambda x: (\"\" if x[0] == \" \" else \" \") + x\n",
            "- [Recommended] Would you like to split into training and validation set? [Y/n]: Y\n",
            "\n",
            "\n",
            "Your data will be written to a new JSONL file. Proceed [Y/n]: Y\n",
            "\n",
            "Wrote modified files to `twitter_prepared_train.jsonl` and `twitter_prepared_valid.jsonl`\n",
            "Feel free to take a look!\n",
            "\n",
            "Now use that file when fine-tuning:\n",
            "> openai api fine_tunes.create -t \"twitter_prepared_train.jsonl\" -v \"twitter_prepared_valid.jsonl\" --compute_classification_metrics --classification_positive_class \" 0\"\n",
            "\n",
            "After you’ve fine-tuned a model, remember that your prompt has to end with the indicator string `\\n\\n###\\n\\n` for the model to start generating completions, rather than continuing with the prompt.\n",
            "Once your model starts training, it'll approximately take 2.85 hours to train a `curie` model, and less for `ada` and `babbage`. Queue will approximately take half an hour per job ahead of you.\n"
          ]
        }
      ]
    },
    {
      "cell_type": "code",
      "source": [
        "openai.api_key = 
        "os.environ[\"OPENAI_API_KEY\"] = 
      ],
      "metadata": {
        "id": "8G4cNA02k9Cw"
      },
      "execution_count": null,
      "outputs": []
    },
    {
      "cell_type": "code",
      "source": [
        "!openai api fine_tunes.create -t \"twitter_prepared_train.jsonl\" -v \"twitter_prepared_valid.jsonl\" --compute_classification_metrics --classification_positive_class ' 1' -m ada"
      ],
      "metadata": {
        "colab": {
          "base_uri": "https://localhost:8080/"
        },
        "id": "-7ni9p2tlYSM",
        "outputId": "26412b4c-c45a-4a5a-d754-37fa1ba26ed8"
      },
      "execution_count": null,
      "outputs": [
        {
          "output_type": "stream",
          "name": "stdout",
          "text": [
            "Found potentially duplicated files with name 'twitter_prepared_train.jsonl', purpose 'fine-tune' and size 758388 bytes\n",
            "file-jmG9ov9ly4VG5ApQVlu94qtk\n",
            "Enter file ID to reuse an already uploaded file, or an empty string to upload this file anyway: jmG9ov9ly4VG5ApQVlu94qtk\n",
            "File id 'jmG9ov9ly4VG5ApQVlu94qtk' is not among the IDs of the potentially duplicated files\n",
            "\n",
            "Enter file ID to reuse an already uploaded file, or an empty string to upload this file anyway: \n",
            "Upload progress: 100% 758k/758k [00:00<00:00, 1.22Git/s]\n",
            "\n",
            "Uploaded file from twitter_prepared_train.jsonl: file-yOIU2lS9VnOJjRxjUGrive30\n",
            "Found potentially duplicated files with name 'twitter_prepared_valid.jsonl', purpose 'fine-tune' and size 126273 bytes\n",
            "file-atLQAuYr54O9bkOkSofcLMo4\n",
            "Upload progress: 100% 126k/126k [00:00<00:00, 172Mit/s]\n",
            "Uploaded file from twitter_prepared_valid.jsonl: file-j0uYA9ACfpHasiS4XAGS8v8q\n",
            "Created fine-tune: ft-l8DOLypSQ8Zc0Mx3Hvv1kZeC\n",
            "Streaming events until fine-tuning is complete...\n",
            "\n",
            "(Ctrl-C will interrupt the stream, but not cancel the fine-tune)\n",
            "[2022-10-20 18:18:35] Created fine-tune: ft-l8DOLypSQ8Zc0Mx3Hvv1kZeC\n",
            "[2022-10-20 18:18:43] Fine-tune costs $0.23\n",
            "[2022-10-20 18:18:44] Fine-tune enqueued. Queue number: 0\n",
            "[2022-10-20 18:18:47] Fine-tune started\n",
            "[2022-10-20 18:23:51] Completed epoch 1/4\n",
            "\n",
            "Stream interrupted (client disconnected).\n",
            "To resume the stream, run:\n",
            "\n",
            "  openai api fine_tunes.follow -i ft-l8DOLypSQ8Zc0Mx3Hvv1kZeC\n",
            "\n"
          ]
        }
      ]
    },
    {
      "cell_type": "code",
      "source": [
        "!openai api fine_tunes.follow -i ft-l8DOLypSQ8Zc0Mx3Hvv1kZeC\n"
      ],
      "metadata": {
        "colab": {
          "base_uri": "https://localhost:8080/"
        },
        "id": "EUy_IbKsra-x",
        "outputId": "c5867eb6-b723-4dc2-b25d-bbfd2f49006a"
      },
      "execution_count": null,
      "outputs": [
        {
          "output_type": "stream",
          "name": "stdout",
          "text": [
            "[2022-10-20 18:18:35] Created fine-tune: ft-l8DOLypSQ8Zc0Mx3Hvv1kZeC\n",
            "[2022-10-20 18:18:43] Fine-tune costs $0.23\n",
            "[2022-10-20 18:18:44] Fine-tune enqueued. Queue number: 0\n",
            "[2022-10-20 18:18:47] Fine-tune started\n",
            "[2022-10-20 18:23:51] Completed epoch 1/4\n",
            "[2022-10-20 18:28:54] Completed epoch 2/4\n",
            "[2022-10-20 18:34:02] Completed epoch 3/4\n",
            "[2022-10-20 18:39:03] Completed epoch 4/4\n",
            "[2022-10-20 18:39:38] Uploaded model: ada:ft-san-jose-state-university-2022-10-20-18-39-37\n",
            "[2022-10-20 18:39:38] Uploaded result file: file-YqFollEZtILs4wgnpHjAGmum\n",
            "[2022-10-20 18:39:38] Fine-tune succeeded\n",
            "\n",
            "Job complete! Status: succeeded 🎉\n",
            "Try out your fine-tuned model:\n",
            "\n",
            "openai api completions.create -m ada:ft-san-jose-state-university-2022-10-20-18-39-37 -p <YOUR_PROMPT>\n"
          ]
        }
      ]
    },
    {
      "cell_type": "code",
      "source": [
        "!openai api fine_tunes.results -i ft-l8DOLypSQ8Zc0Mx3Hvv1kZeC > result.csv\n"
      ],
      "metadata": {
        "id": "mQiVmflfmlGM"
      },
      "execution_count": null,
      "outputs": []
    },
    {
      "cell_type": "code",
      "source": [
        "results = pd.read_csv('result.csv')\n",
        "results[results['classification/accuracy'].notnull()].tail(1)\n"
      ],
      "metadata": {
        "colab": {
          "base_uri": "https://localhost:8080/",
          "height": 145
        },
        "id": "rvXkPFrIs3DH",
        "outputId": "6bf2f65f-f1e3-48f9-c660-613871dfa902"
      },
      "execution_count": null,
      "outputs": [
        {
          "output_type": "execute_result",
          "data": {
            "text/plain": [
              "      step  elapsed_tokens  elapsed_examples  training_loss  \\\n",
              "3009  3010          928144             24080        0.02611   \n",
              "\n",
              "      training_sequence_accuracy  training_token_accuracy  validation_loss  \\\n",
              "3009                         1.0                      1.0              NaN   \n",
              "\n",
              "      validation_sequence_accuracy  validation_token_accuracy  \\\n",
              "3009                           NaN                        NaN   \n",
              "\n",
              "      classification/accuracy  classification/precision  \\\n",
              "3009                    0.824                  0.808564   \n",
              "\n",
              "      classification/recall  classification/auroc  classification/auprc  \\\n",
              "3009                0.76247              0.886496              0.881988   \n",
              "\n",
              "      classification/f1.0  \n",
              "3009             0.784841  "
            ],
            "text/html": [
              "\n",
              "  <div id=\"df-5e17dcf7-9736-4696-85af-8b0140653c14\">\n",
              "    <div class=\"colab-df-container\">\n",
              "      <div>\n",
              "<style scoped>\n",
              "    .dataframe tbody tr th:only-of-type {\n",
              "        vertical-align: middle;\n",
              "    }\n",
              "\n",
              "    .dataframe tbody tr th {\n",
              "        vertical-align: top;\n",
              "    }\n",
              "\n",
              "    .dataframe thead th {\n",
              "        text-align: right;\n",
              "    }\n",
              "</style>\n",
              "<table border=\"1\" class=\"dataframe\">\n",
              "  <thead>\n",
              "    <tr style=\"text-align: right;\">\n",
              "      <th></th>\n",
              "      <th>step</th>\n",
              "      <th>elapsed_tokens</th>\n",
              "      <th>elapsed_examples</th>\n",
              "      <th>training_loss</th>\n",
              "      <th>training_sequence_accuracy</th>\n",
              "      <th>training_token_accuracy</th>\n",
              "      <th>validation_loss</th>\n",
              "      <th>validation_sequence_accuracy</th>\n",
              "      <th>validation_token_accuracy</th>\n",
              "      <th>classification/accuracy</th>\n",
              "      <th>classification/precision</th>\n",
              "      <th>classification/recall</th>\n",
              "      <th>classification/auroc</th>\n",
              "      <th>classification/auprc</th>\n",
              "      <th>classification/f1.0</th>\n",
              "    </tr>\n",
              "  </thead>\n",
              "  <tbody>\n",
              "    <tr>\n",
              "      <th>3009</th>\n",
              "      <td>3010</td>\n",
              "      <td>928144</td>\n",
              "      <td>24080</td>\n",
              "      <td>0.02611</td>\n",
              "      <td>1.0</td>\n",
              "      <td>1.0</td>\n",
              "      <td>NaN</td>\n",
              "      <td>NaN</td>\n",
              "      <td>NaN</td>\n",
              "      <td>0.824</td>\n",
              "      <td>0.808564</td>\n",
              "      <td>0.76247</td>\n",
              "      <td>0.886496</td>\n",
              "      <td>0.881988</td>\n",
              "      <td>0.784841</td>\n",
              "    </tr>\n",
              "  </tbody>\n",
              "</table>\n",
              "</div>\n",
              "      <button class=\"colab-df-convert\" onclick=\"convertToInteractive('df-5e17dcf7-9736-4696-85af-8b0140653c14')\"\n",
              "              title=\"Convert this dataframe to an interactive table.\"\n",
              "              style=\"display:none;\">\n",
              "        \n",
              "  <svg xmlns=\"http://www.w3.org/2000/svg\" height=\"24px\"viewBox=\"0 0 24 24\"\n",
              "       width=\"24px\">\n",
              "    <path d=\"M0 0h24v24H0V0z\" fill=\"none\"/>\n",
              "    <path d=\"M18.56 5.44l.94 2.06.94-2.06 2.06-.94-2.06-.94-.94-2.06-.94 2.06-2.06.94zm-11 1L8.5 8.5l.94-2.06 2.06-.94-2.06-.94L8.5 2.5l-.94 2.06-2.06.94zm10 10l.94 2.06.94-2.06 2.06-.94-2.06-.94-.94-2.06-.94 2.06-2.06.94z\"/><path d=\"M17.41 7.96l-1.37-1.37c-.4-.4-.92-.59-1.43-.59-.52 0-1.04.2-1.43.59L10.3 9.45l-7.72 7.72c-.78.78-.78 2.05 0 2.83L4 21.41c.39.39.9.59 1.41.59.51 0 1.02-.2 1.41-.59l7.78-7.78 2.81-2.81c.8-.78.8-2.07 0-2.86zM5.41 20L4 18.59l7.72-7.72 1.47 1.35L5.41 20z\"/>\n",
              "  </svg>\n",
              "      </button>\n",
              "      \n",
              "  <style>\n",
              "    .colab-df-container {\n",
              "      display:flex;\n",
              "      flex-wrap:wrap;\n",
              "      gap: 12px;\n",
              "    }\n",
              "\n",
              "    .colab-df-convert {\n",
              "      background-color: #E8F0FE;\n",
              "      border: none;\n",
              "      border-radius: 50%;\n",
              "      cursor: pointer;\n",
              "      display: none;\n",
              "      fill: #1967D2;\n",
              "      height: 32px;\n",
              "      padding: 0 0 0 0;\n",
              "      width: 32px;\n",
              "    }\n",
              "\n",
              "    .colab-df-convert:hover {\n",
              "      background-color: #E2EBFA;\n",
              "      box-shadow: 0px 1px 2px rgba(60, 64, 67, 0.3), 0px 1px 3px 1px rgba(60, 64, 67, 0.15);\n",
              "      fill: #174EA6;\n",
              "    }\n",
              "\n",
              "    [theme=dark] .colab-df-convert {\n",
              "      background-color: #3B4455;\n",
              "      fill: #D2E3FC;\n",
              "    }\n",
              "\n",
              "    [theme=dark] .colab-df-convert:hover {\n",
              "      background-color: #434B5C;\n",
              "      box-shadow: 0px 1px 3px 1px rgba(0, 0, 0, 0.15);\n",
              "      filter: drop-shadow(0px 1px 2px rgba(0, 0, 0, 0.3));\n",
              "      fill: #FFFFFF;\n",
              "    }\n",
              "  </style>\n",
              "\n",
              "      <script>\n",
              "        const buttonEl =\n",
              "          document.querySelector('#df-5e17dcf7-9736-4696-85af-8b0140653c14 button.colab-df-convert');\n",
              "        buttonEl.style.display =\n",
              "          google.colab.kernel.accessAllowed ? 'block' : 'none';\n",
              "\n",
              "        async function convertToInteractive(key) {\n",
              "          const element = document.querySelector('#df-5e17dcf7-9736-4696-85af-8b0140653c14');\n",
              "          const dataTable =\n",
              "            await google.colab.kernel.invokeFunction('convertToInteractive',\n",
              "                                                     [key], {});\n",
              "          if (!dataTable) return;\n",
              "\n",
              "          const docLinkHtml = 'Like what you see? Visit the ' +\n",
              "            '<a target=\"_blank\" href=https://colab.research.google.com/notebooks/data_table.ipynb>data table notebook</a>'\n",
              "            + ' to learn more about interactive tables.';\n",
              "          element.innerHTML = '';\n",
              "          dataTable['output_type'] = 'display_data';\n",
              "          await google.colab.output.renderOutput(dataTable, element);\n",
              "          const docLink = document.createElement('div');\n",
              "          docLink.innerHTML = docLinkHtml;\n",
              "          element.appendChild(docLink);\n",
              "        }\n",
              "      </script>\n",
              "    </div>\n",
              "  </div>\n",
              "  "
            ]
          },
          "metadata": {},
          "execution_count": 24
        }
      ]
    },
    {
      "cell_type": "code",
      "source": [
        "results[results['classification/accuracy'].notnull()]['classification/accuracy'].plot()\n"
      ],
      "metadata": {
        "colab": {
          "base_uri": "https://localhost:8080/",
          "height": 282
        },
        "id": "5lB-XtPGs4gD",
        "outputId": "653397d4-043b-4d6c-f6e8-0db3813f8df4"
      },
      "execution_count": null,
      "outputs": [
        {
          "output_type": "execute_result",
          "data": {
            "text/plain": [
              "<matplotlib.axes._subplots.AxesSubplot at 0x7ff1fa5d7810>"
            ]
          },
          "metadata": {},
          "execution_count": 25
        },
        {
          "output_type": "display_data",
          "data": {
            "text/plain": [
              "<Figure size 432x288 with 1 Axes>"
            ],
            "image/png": "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\n"
          },
          "metadata": {
            "needs_background": "light"
          }
        }
      ]
    },
    {
      "cell_type": "code",
      "source": [
        "test = pd.read_json('twitter_prepared_valid.jsonl', lines=True)\n",
        "test.head()"
      ],
      "metadata": {
        "colab": {
          "base_uri": "https://localhost:8080/",
          "height": 206
        },
        "id": "W6Erv6wUtB3t",
        "outputId": "a8d8c60c-b9ba-4512-efc5-052c87a6f986"
      },
      "execution_count": null,
      "outputs": [
        {
          "output_type": "execute_result",
          "data": {
            "text/plain": [
              "                                              prompt  completion\n",
              "0  just got sent this photo from ruby alaska as s...           1\n",
              "1  im afraid that the tornado is coming to our ar...           1\n",
              "2                           i love fruits\\n\\n###\\n\\n           0\n",
              "3       crying out for more set me ablaze\\n\\n###\\n\\n           0\n",
              "4  truck ablaze  r21 voortrekker ave outside or t...           1"
            ],
            "text/html": [
              "\n",
              "  <div id=\"df-e09d7dba-3e59-405d-9a63-0dff36ccce8b\">\n",
              "    <div class=\"colab-df-container\">\n",
              "      <div>\n",
              "<style scoped>\n",
              "    .dataframe tbody tr th:only-of-type {\n",
              "        vertical-align: middle;\n",
              "    }\n",
              "\n",
              "    .dataframe tbody tr th {\n",
              "        vertical-align: top;\n",
              "    }\n",
              "\n",
              "    .dataframe thead th {\n",
              "        text-align: right;\n",
              "    }\n",
              "</style>\n",
              "<table border=\"1\" class=\"dataframe\">\n",
              "  <thead>\n",
              "    <tr style=\"text-align: right;\">\n",
              "      <th></th>\n",
              "      <th>prompt</th>\n",
              "      <th>completion</th>\n",
              "    </tr>\n",
              "  </thead>\n",
              "  <tbody>\n",
              "    <tr>\n",
              "      <th>0</th>\n",
              "      <td>just got sent this photo from ruby alaska as s...</td>\n",
              "      <td>1</td>\n",
              "    </tr>\n",
              "    <tr>\n",
              "      <th>1</th>\n",
              "      <td>im afraid that the tornado is coming to our ar...</td>\n",
              "      <td>1</td>\n",
              "    </tr>\n",
              "    <tr>\n",
              "      <th>2</th>\n",
              "      <td>i love fruits\\n\\n###\\n\\n</td>\n",
              "      <td>0</td>\n",
              "    </tr>\n",
              "    <tr>\n",
              "      <th>3</th>\n",
              "      <td>crying out for more set me ablaze\\n\\n###\\n\\n</td>\n",
              "      <td>0</td>\n",
              "    </tr>\n",
              "    <tr>\n",
              "      <th>4</th>\n",
              "      <td>truck ablaze  r21 voortrekker ave outside or t...</td>\n",
              "      <td>1</td>\n",
              "    </tr>\n",
              "  </tbody>\n",
              "</table>\n",
              "</div>\n",
              "      <button class=\"colab-df-convert\" onclick=\"convertToInteractive('df-e09d7dba-3e59-405d-9a63-0dff36ccce8b')\"\n",
              "              title=\"Convert this dataframe to an interactive table.\"\n",
              "              style=\"display:none;\">\n",
              "        \n",
              "  <svg xmlns=\"http://www.w3.org/2000/svg\" height=\"24px\"viewBox=\"0 0 24 24\"\n",
              "       width=\"24px\">\n",
              "    <path d=\"M0 0h24v24H0V0z\" fill=\"none\"/>\n",
              "    <path d=\"M18.56 5.44l.94 2.06.94-2.06 2.06-.94-2.06-.94-.94-2.06-.94 2.06-2.06.94zm-11 1L8.5 8.5l.94-2.06 2.06-.94-2.06-.94L8.5 2.5l-.94 2.06-2.06.94zm10 10l.94 2.06.94-2.06 2.06-.94-2.06-.94-.94-2.06-.94 2.06-2.06.94z\"/><path d=\"M17.41 7.96l-1.37-1.37c-.4-.4-.92-.59-1.43-.59-.52 0-1.04.2-1.43.59L10.3 9.45l-7.72 7.72c-.78.78-.78 2.05 0 2.83L4 21.41c.39.39.9.59 1.41.59.51 0 1.02-.2 1.41-.59l7.78-7.78 2.81-2.81c.8-.78.8-2.07 0-2.86zM5.41 20L4 18.59l7.72-7.72 1.47 1.35L5.41 20z\"/>\n",
              "  </svg>\n",
              "      </button>\n",
              "      \n",
              "  <style>\n",
              "    .colab-df-container {\n",
              "      display:flex;\n",
              "      flex-wrap:wrap;\n",
              "      gap: 12px;\n",
              "    }\n",
              "\n",
              "    .colab-df-convert {\n",
              "      background-color: #E8F0FE;\n",
              "      border: none;\n",
              "      border-radius: 50%;\n",
              "      cursor: pointer;\n",
              "      display: none;\n",
              "      fill: #1967D2;\n",
              "      height: 32px;\n",
              "      padding: 0 0 0 0;\n",
              "      width: 32px;\n",
              "    }\n",
              "\n",
              "    .colab-df-convert:hover {\n",
              "      background-color: #E2EBFA;\n",
              "      box-shadow: 0px 1px 2px rgba(60, 64, 67, 0.3), 0px 1px 3px 1px rgba(60, 64, 67, 0.15);\n",
              "      fill: #174EA6;\n",
              "    }\n",
              "\n",
              "    [theme=dark] .colab-df-convert {\n",
              "      background-color: #3B4455;\n",
              "      fill: #D2E3FC;\n",
              "    }\n",
              "\n",
              "    [theme=dark] .colab-df-convert:hover {\n",
              "      background-color: #434B5C;\n",
              "      box-shadow: 0px 1px 3px 1px rgba(0, 0, 0, 0.15);\n",
              "      filter: drop-shadow(0px 1px 2px rgba(0, 0, 0, 0.3));\n",
              "      fill: #FFFFFF;\n",
              "    }\n",
              "  </style>\n",
              "\n",
              "      <script>\n",
              "        const buttonEl =\n",
              "          document.querySelector('#df-e09d7dba-3e59-405d-9a63-0dff36ccce8b button.colab-df-convert');\n",
              "        buttonEl.style.display =\n",
              "          google.colab.kernel.accessAllowed ? 'block' : 'none';\n",
              "\n",
              "        async function convertToInteractive(key) {\n",
              "          const element = document.querySelector('#df-e09d7dba-3e59-405d-9a63-0dff36ccce8b');\n",
              "          const dataTable =\n",
              "            await google.colab.kernel.invokeFunction('convertToInteractive',\n",
              "                                                     [key], {});\n",
              "          if (!dataTable) return;\n",
              "\n",
              "          const docLinkHtml = 'Like what you see? Visit the ' +\n",
              "            '<a target=\"_blank\" href=https://colab.research.google.com/notebooks/data_table.ipynb>data table notebook</a>'\n",
              "            + ' to learn more about interactive tables.';\n",
              "          element.innerHTML = '';\n",
              "          dataTable['output_type'] = 'display_data';\n",
              "          await google.colab.output.renderOutput(dataTable, element);\n",
              "          const docLink = document.createElement('div');\n",
              "          docLink.innerHTML = docLinkHtml;\n",
              "          element.appendChild(docLink);\n",
              "        }\n",
              "      </script>\n",
              "    </div>\n",
              "  </div>\n",
              "  "
            ]
          },
          "metadata": {},
          "execution_count": 27
        }
      ]
    },
    {
      "cell_type": "code",
      "source": [
        "ft_model = 'ada:ft-san-jose-state-university-2022-10-20-18-39-37'\n",
        "res = openai.Completion.create(model=ft_model, prompt=test['prompt'][0] + '\\n\\n###\\n\\n', max_tokens=1, temperature=0)\n",
        "res['choices'][0]['text']\n"
      ],
      "metadata": {
        "colab": {
          "base_uri": "https://localhost:8080/",
          "height": 35
        },
        "id": "oLB3TYzntL2N",
        "outputId": "3ef47be5-a6d8-4cd5-ee4a-aab0b9679e46"
      },
      "execution_count": null,
      "outputs": [
        {
          "output_type": "execute_result",
          "data": {
            "text/plain": [
              "' 1'"
            ],
            "application/vnd.google.colaboratory.intrinsic+json": {
              "type": "string"
            }
          },
          "metadata": {},
          "execution_count": 28
        }
      ]
    },
    {
      "cell_type": "code",
      "source": [
        "res = openai.Completion.create(model=ft_model, prompt=test['prompt'][0] + '\\n\\n###\\n\\n', max_tokens=1, temperature=0, logprobs=2)\n",
        "res['choices'][0]['logprobs']['top_logprobs'][0]"
      ],
      "metadata": {
        "colab": {
          "base_uri": "https://localhost:8080/"
        },
        "id": "lxo8eeQ5tm29",
        "outputId": "00956b27-1a14-4e4a-98c4-12e28b42d34d"
      },
      "execution_count": null,
      "outputs": [
        {
          "output_type": "execute_result",
          "data": {
            "text/plain": [
              "<OpenAIObject at 0x7ff1fa7a3dd0> JSON: {\n",
              "  \" 0\": -8.466988,\n",
              "  \" 1\": -0.00025980148\n",
              "}"
            ]
          },
          "metadata": {},
          "execution_count": 29
        }
      ]
    },
    {
      "cell_type": "code",
      "source": [
        "'''\n",
        "We can see that the model predicts 1(disaster) as a lot more likely than 0(non-disaster), which is the correct prediction.\n",
        "By requesting log_probs, we can see the prediction (log) probability for each class.\n",
        "'''"
      ],
      "metadata": {
        "id": "kNeue_mdt-qd"
      },
      "execution_count": null,
      "outputs": []
    },
    {
      "cell_type": "code",
      "source": [
        "sample_disaster_tweet = \"Hey, Harmony community! I can see huge flood and landslide coming from Fremont. Be careful, evacuate safety area.\"\n",
        "res = openai.Completion.create(model=ft_model, prompt=sample_disaster_tweet + '\\n\\n###\\n\\n', max_tokens=1, temperature=0, logprobs=2)\n",
        "res['choices'][0]['text']\n"
      ],
      "metadata": {
        "colab": {
          "base_uri": "https://localhost:8080/",
          "height": 35
        },
        "id": "pJNAHld_uGK5",
        "outputId": "2cd10a15-7a8b-4e55-b5e6-27585956f05d"
      },
      "execution_count": null,
      "outputs": [
        {
          "output_type": "execute_result",
          "data": {
            "text/plain": [
              "' 1'"
            ],
            "application/vnd.google.colaboratory.intrinsic+json": {
              "type": "string"
            }
          },
          "metadata": {},
          "execution_count": 30
        }
      ]
    },
    {
      "cell_type": "code",
      "source": [
        "sample_non_disaster_tweet = \"Look at the sky! it looks like something huge. I like pink sky like this. I feel like traveling in Hawaii~\"\n",
        "res = openai.Completion.create(model=ft_model, prompt=sample_non_disaster_tweet + '\\n\\n###\\n\\n', max_tokens=1, temperature=0, logprobs=2)\n",
        "res['choices'][0]['text']\n"
      ],
      "metadata": {
        "colab": {
          "base_uri": "https://localhost:8080/",
          "height": 35
        },
        "id": "Dfm3rmd3toiK",
        "outputId": "60fc6845-2c98-4b25-c797-5988ad3754c1"
      },
      "execution_count": null,
      "outputs": [
        {
          "output_type": "execute_result",
          "data": {
            "text/plain": [
              "' 0'"
            ],
            "application/vnd.google.colaboratory.intrinsic+json": {
              "type": "string"
            }
          },
          "metadata": {},
          "execution_count": 31
        }
      ]
    },
    {
      "cell_type": "markdown",
      "source": [
        "## Demnstrate the use of the embeddings API to embedd the tweets and then apply an estimator of your choice to perform classification"
      ],
      "metadata": {
        "id": "zXncx7uozHTa"
      }
    },
    {
      "cell_type": "code",
      "source": [
        "!pip install openai\n",
        "!pip install transformers"
      ],
      "metadata": {
        "colab": {
          "base_uri": "https://localhost:8080/"
        },
        "id": "cYyEkKo0uyPj",
        "outputId": "57d327d7-e04d-4dfc-cb18-06c7a78b868c"
      },
      "execution_count": null,
      "outputs": [
        {
          "output_type": "stream",
          "name": "stdout",
          "text": [
            "Looking in indexes: https://pypi.org/simple, https://us-python.pkg.dev/colab-wheels/public/simple/\n",
            "Requirement already satisfied: openai in /usr/local/lib/python3.7/dist-packages (0.24.0)\n",
            "Requirement already satisfied: openpyxl>=3.0.7 in /usr/local/lib/python3.7/dist-packages (from openai) (3.0.10)\n",
            "Requirement already satisfied: pandas>=1.2.3 in /usr/local/lib/python3.7/dist-packages (from openai) (1.3.5)\n",
            "Requirement already satisfied: pandas-stubs>=1.1.0.11 in /usr/local/lib/python3.7/dist-packages (from openai) (1.2.0.62)\n",
            "Requirement already satisfied: numpy in /usr/local/lib/python3.7/dist-packages (from openai) (1.21.6)\n",
            "Requirement already satisfied: typing-extensions in /usr/local/lib/python3.7/dist-packages (from openai) (4.1.1)\n",
            "Requirement already satisfied: tqdm in /usr/local/lib/python3.7/dist-packages (from openai) (4.64.1)\n",
            "Requirement already satisfied: requests>=2.20 in /usr/local/lib/python3.7/dist-packages (from openai) (2.23.0)\n",
            "Requirement already satisfied: et-xmlfile in /usr/local/lib/python3.7/dist-packages (from openpyxl>=3.0.7->openai) (1.1.0)\n",
            "Requirement already satisfied: pytz>=2017.3 in /usr/local/lib/python3.7/dist-packages (from pandas>=1.2.3->openai) (2022.4)\n",
            "Requirement already satisfied: python-dateutil>=2.7.3 in /usr/local/lib/python3.7/dist-packages (from pandas>=1.2.3->openai) (2.8.2)\n",
            "Requirement already satisfied: six>=1.5 in /usr/local/lib/python3.7/dist-packages (from python-dateutil>=2.7.3->pandas>=1.2.3->openai) (1.15.0)\n",
            "Requirement already satisfied: chardet<4,>=3.0.2 in /usr/local/lib/python3.7/dist-packages (from requests>=2.20->openai) (3.0.4)\n",
            "Requirement already satisfied: certifi>=2017.4.17 in /usr/local/lib/python3.7/dist-packages (from requests>=2.20->openai) (2022.9.24)\n",
            "Requirement already satisfied: urllib3!=1.25.0,!=1.25.1,<1.26,>=1.21.1 in /usr/local/lib/python3.7/dist-packages (from requests>=2.20->openai) (1.24.3)\n",
            "Requirement already satisfied: idna<3,>=2.5 in /usr/local/lib/python3.7/dist-packages (from requests>=2.20->openai) (2.10)\n"
          ]
        }
      ]
    },
    {
      "cell_type": "code",
      "source": [
        "import os\n",
        "import numpy as np\n",
        "import pandas as pd\n",
        "import openai\n",
        "\n",
        "openai.api_key = 
        "os.environ[\"OPENAI_API_KEY\"] =
      ],
      "metadata": {
        "id": "1X6KJKECnJPR"
      },
      "execution_count": null,
      "outputs": []
    },
    {
      "cell_type": "code",
      "source": [
        "from sklearn.model_selection import train_test_split\n",
        "\n",
        "df_twitter = pd.read_csv('TwitterTrain.csv')\n",
        "df_twitter = df_twitter.drop(['id', 'keyword','location'], axis = 1)\n",
        "df_twitter.head()\n",
        "\n",
        "import re\n",
        "import string\n",
        "def RemovePunctuation(text):\n",
        "    return text.translate(str.maketrans('', '', string.punctuation))\n",
        "\n",
        "def removeHTML(text):\n",
        "    html = re.compile(r\"<.*?>|&([a-z0-9]+|#[0-9]{1,6}|#x[0-9a-f]{1,6});\")\n",
        "    return re.sub(html, \"\", text)\n",
        "\n",
        "def removeEmojis(text):\n",
        "    emoji_pattern = re.compile(\"[\"\n",
        "                       u\"\\U0001F600-\\U0001F64F\"  # emoticons\n",
        "                       u\"\\U0001F300-\\U0001F5FF\"  # symbols & pictographs\n",
        "                       u\"\\U0001F680-\\U0001F6FF\"  # transport & map symbols\n",
        "                       u\"\\U0001F1E0-\\U0001F1FF\"  # flags (iOS)\n",
        "                       u\"\\U00002702-\\U000027B0\"\n",
        "                       u\"\\U000024C2-\\U0001F251\"\n",
        "                       u\"\\U0001f926-\\U0001f937\"\n",
        "                       u\"\\u200d\"\n",
        "                       u\"\\u2640-\\u2642\"\n",
        "                       \"]+\", flags=re.UNICODE)\n",
        "    return emoji_pattern.sub(r'', text)\n",
        "\n",
        "def RemoveASCII(text):\n",
        "  return re.sub(r'[^\\x00-\\x7f]', \"\", text)\n",
        "\n",
        "df_twitter[\"CleanText\"] = df_twitter[\"text\"].apply(lambda x: x.lower())\n",
        "df_twitter[\"CleanText\"] = df_twitter[\"CleanText\"].apply(lambda x: re.sub(r\"https?://\\S+|www\\.\\S+\", \"\",x))\n",
        "df_twitter[\"CleanText\"] = df_twitter[\"CleanText\"].apply(lambda x: removeHTML(x))\n",
        "df_twitter[\"CleanText\"] = df_twitter[\"CleanText\"].apply(lambda x: removeEmojis(x))\n",
        "df_twitter[\"CleanText\"] = df_twitter[\"CleanText\"].apply(lambda x: RemovePunctuation(x))\n",
        "df_twitter[\"CleanText\"] = df_twitter[\"CleanText\"].apply(lambda x: RemoveASCII(x))\n",
        "df_twitter = df_twitter.drop(['text'], axis = 1)\n",
        "#df_twitter = df_twitter.rename(columns={'CleanText': 'prompt', 'target': 'completion'})\n",
        "\n",
        "df_twitter.tail()"
      ],
      "metadata": {
        "colab": {
          "base_uri": "https://localhost:8080/",
          "height": 206
        },
        "id": "z9VHSPXm4vy4",
        "outputId": "0bef217f-48a6-4d82-c6d3-3cd8434e7c56"
      },
      "execution_count": null,
      "outputs": [
        {
          "output_type": "execute_result",
          "data": {
            "text/plain": [
              "      target                                          CleanText\n",
              "7608       1  two giant cranes holding a bridge collapse int...\n",
              "7609       1  ariaahrary thetawniest the out of control wild...\n",
              "7610       1              m194 0104 utc5km s of volcano hawaii \n",
              "7611       1  police investigating after an ebike collided w...\n",
              "7612       1  the latest more homes razed by northern califo..."
            ],
            "text/html": [
              "\n",
              "  <div id=\"df-36adcd71-0eb8-4af2-9179-24c4ecaee8b2\">\n",
              "    <div class=\"colab-df-container\">\n",
              "      <div>\n",
              "<style scoped>\n",
              "    .dataframe tbody tr th:only-of-type {\n",
              "        vertical-align: middle;\n",
              "    }\n",
              "\n",
              "    .dataframe tbody tr th {\n",
              "        vertical-align: top;\n",
              "    }\n",
              "\n",
              "    .dataframe thead th {\n",
              "        text-align: right;\n",
              "    }\n",
              "</style>\n",
              "<table border=\"1\" class=\"dataframe\">\n",
              "  <thead>\n",
              "    <tr style=\"text-align: right;\">\n",
              "      <th></th>\n",
              "      <th>target</th>\n",
              "      <th>CleanText</th>\n",
              "    </tr>\n",
              "  </thead>\n",
              "  <tbody>\n",
              "    <tr>\n",
              "      <th>7608</th>\n",
              "      <td>1</td>\n",
              "      <td>two giant cranes holding a bridge collapse int...</td>\n",
              "    </tr>\n",
              "    <tr>\n",
              "      <th>7609</th>\n",
              "      <td>1</td>\n",
              "      <td>ariaahrary thetawniest the out of control wild...</td>\n",
              "    </tr>\n",
              "    <tr>\n",
              "      <th>7610</th>\n",
              "      <td>1</td>\n",
              "      <td>m194 0104 utc5km s of volcano hawaii</td>\n",
              "    </tr>\n",
              "    <tr>\n",
              "      <th>7611</th>\n",
              "      <td>1</td>\n",
              "      <td>police investigating after an ebike collided w...</td>\n",
              "    </tr>\n",
              "    <tr>\n",
              "      <th>7612</th>\n",
              "      <td>1</td>\n",
              "      <td>the latest more homes razed by northern califo...</td>\n",
              "    </tr>\n",
              "  </tbody>\n",
              "</table>\n",
              "</div>\n",
              "      <button class=\"colab-df-convert\" onclick=\"convertToInteractive('df-36adcd71-0eb8-4af2-9179-24c4ecaee8b2')\"\n",
              "              title=\"Convert this dataframe to an interactive table.\"\n",
              "              style=\"display:none;\">\n",
              "        \n",
              "  <svg xmlns=\"http://www.w3.org/2000/svg\" height=\"24px\"viewBox=\"0 0 24 24\"\n",
              "       width=\"24px\">\n",
              "    <path d=\"M0 0h24v24H0V0z\" fill=\"none\"/>\n",
              "    <path d=\"M18.56 5.44l.94 2.06.94-2.06 2.06-.94-2.06-.94-.94-2.06-.94 2.06-2.06.94zm-11 1L8.5 8.5l.94-2.06 2.06-.94-2.06-.94L8.5 2.5l-.94 2.06-2.06.94zm10 10l.94 2.06.94-2.06 2.06-.94-2.06-.94-.94-2.06-.94 2.06-2.06.94z\"/><path d=\"M17.41 7.96l-1.37-1.37c-.4-.4-.92-.59-1.43-.59-.52 0-1.04.2-1.43.59L10.3 9.45l-7.72 7.72c-.78.78-.78 2.05 0 2.83L4 21.41c.39.39.9.59 1.41.59.51 0 1.02-.2 1.41-.59l7.78-7.78 2.81-2.81c.8-.78.8-2.07 0-2.86zM5.41 20L4 18.59l7.72-7.72 1.47 1.35L5.41 20z\"/>\n",
              "  </svg>\n",
              "      </button>\n",
              "      \n",
              "  <style>\n",
              "    .colab-df-container {\n",
              "      display:flex;\n",
              "      flex-wrap:wrap;\n",
              "      gap: 12px;\n",
              "    }\n",
              "\n",
              "    .colab-df-convert {\n",
              "      background-color: #E8F0FE;\n",
              "      border: none;\n",
              "      border-radius: 50%;\n",
              "      cursor: pointer;\n",
              "      display: none;\n",
              "      fill: #1967D2;\n",
              "      height: 32px;\n",
              "      padding: 0 0 0 0;\n",
              "      width: 32px;\n",
              "    }\n",
              "\n",
              "    .colab-df-convert:hover {\n",
              "      background-color: #E2EBFA;\n",
              "      box-shadow: 0px 1px 2px rgba(60, 64, 67, 0.3), 0px 1px 3px 1px rgba(60, 64, 67, 0.15);\n",
              "      fill: #174EA6;\n",
              "    }\n",
              "\n",
              "    [theme=dark] .colab-df-convert {\n",
              "      background-color: #3B4455;\n",
              "      fill: #D2E3FC;\n",
              "    }\n",
              "\n",
              "    [theme=dark] .colab-df-convert:hover {\n",
              "      background-color: #434B5C;\n",
              "      box-shadow: 0px 1px 3px 1px rgba(0, 0, 0, 0.15);\n",
              "      filter: drop-shadow(0px 1px 2px rgba(0, 0, 0, 0.3));\n",
              "      fill: #FFFFFF;\n",
              "    }\n",
              "  </style>\n",
              "\n",
              "      <script>\n",
              "        const buttonEl =\n",
              "          document.querySelector('#df-36adcd71-0eb8-4af2-9179-24c4ecaee8b2 button.colab-df-convert');\n",
              "        buttonEl.style.display =\n",
              "          google.colab.kernel.accessAllowed ? 'block' : 'none';\n",
              "\n",
              "        async function convertToInteractive(key) {\n",
              "          const element = document.querySelector('#df-36adcd71-0eb8-4af2-9179-24c4ecaee8b2');\n",
              "          const dataTable =\n",
              "            await google.colab.kernel.invokeFunction('convertToInteractive',\n",
              "                                                     [key], {});\n",
              "          if (!dataTable) return;\n",
              "\n",
              "          const docLinkHtml = 'Like what you see? Visit the ' +\n",
              "            '<a target=\"_blank\" href=https://colab.research.google.com/notebooks/data_table.ipynb>data table notebook</a>'\n",
              "            + ' to learn more about interactive tables.';\n",
              "          element.innerHTML = '';\n",
              "          dataTable['output_type'] = 'display_data';\n",
              "          await google.colab.output.renderOutput(dataTable, element);\n",
              "          const docLink = document.createElement('div');\n",
              "          docLink.innerHTML = docLinkHtml;\n",
              "          element.appendChild(docLink);\n",
              "        }\n",
              "      </script>\n",
              "    </div>\n",
              "  </div>\n",
              "  "
            ]
          },
          "metadata": {},
          "execution_count": 8
        }
      ]
    },
    {
      "cell_type": "code",
      "source": [
        "from transformers import GPT2TokenizerFast\n",
        "tokenizer = GPT2TokenizerFast.from_pretrained(\"gpt2\")\n",
        "\n",
        "# remove tweets that are too long\n",
        "df_twitter['n_tokens'] = df_twitter['CleanText'].apply(lambda x: len(tokenizer.encode(x)))\n",
        "#df_twitter = df_twitter[df_twitter['n_tokens']<2000]\n",
        "df_twitter.describe()"
      ],
      "metadata": {
        "colab": {
          "base_uri": "https://localhost:8080/",
          "height": 300
        },
        "id": "u6Z6JfPu5Ymf",
        "outputId": "d1b288a5-ec70-4102-edc0-a2b6fe79e321"
      },
      "execution_count": null,
      "outputs": [
        {
          "output_type": "execute_result",
          "data": {
            "text/plain": [
              "           target     n_tokens\n",
              "count  7613.00000  7613.000000\n",
              "mean      0.42966    19.360962\n",
              "std       0.49506     7.318446\n",
              "min       0.00000     1.000000\n",
              "25%       0.00000    14.000000\n",
              "50%       0.00000    19.000000\n",
              "75%       1.00000    25.000000\n",
              "max       1.00000    62.000000"
            ],
            "text/html": [
              "\n",
              "  <div id=\"df-05d2e00f-2580-4de9-92c2-c21395dba96f\">\n",
              "    <div class=\"colab-df-container\">\n",
              "      <div>\n",
              "<style scoped>\n",
              "    .dataframe tbody tr th:only-of-type {\n",
              "        vertical-align: middle;\n",
              "    }\n",
              "\n",
              "    .dataframe tbody tr th {\n",
              "        vertical-align: top;\n",
              "    }\n",
              "\n",
              "    .dataframe thead th {\n",
              "        text-align: right;\n",
              "    }\n",
              "</style>\n",
              "<table border=\"1\" class=\"dataframe\">\n",
              "  <thead>\n",
              "    <tr style=\"text-align: right;\">\n",
              "      <th></th>\n",
              "      <th>target</th>\n",
              "      <th>n_tokens</th>\n",
              "    </tr>\n",
              "  </thead>\n",
              "  <tbody>\n",
              "    <tr>\n",
              "      <th>count</th>\n",
              "      <td>7613.00000</td>\n",
              "      <td>7613.000000</td>\n",
              "    </tr>\n",
              "    <tr>\n",
              "      <th>mean</th>\n",
              "      <td>0.42966</td>\n",
              "      <td>19.360962</td>\n",
              "    </tr>\n",
              "    <tr>\n",
              "      <th>std</th>\n",
              "      <td>0.49506</td>\n",
              "      <td>7.318446</td>\n",
              "    </tr>\n",
              "    <tr>\n",
              "      <th>min</th>\n",
              "      <td>0.00000</td>\n",
              "      <td>1.000000</td>\n",
              "    </tr>\n",
              "    <tr>\n",
              "      <th>25%</th>\n",
              "      <td>0.00000</td>\n",
              "      <td>14.000000</td>\n",
              "    </tr>\n",
              "    <tr>\n",
              "      <th>50%</th>\n",
              "      <td>0.00000</td>\n",
              "      <td>19.000000</td>\n",
              "    </tr>\n",
              "    <tr>\n",
              "      <th>75%</th>\n",
              "      <td>1.00000</td>\n",
              "      <td>25.000000</td>\n",
              "    </tr>\n",
              "    <tr>\n",
              "      <th>max</th>\n",
              "      <td>1.00000</td>\n",
              "      <td>62.000000</td>\n",
              "    </tr>\n",
              "  </tbody>\n",
              "</table>\n",
              "</div>\n",
              "      <button class=\"colab-df-convert\" onclick=\"convertToInteractive('df-05d2e00f-2580-4de9-92c2-c21395dba96f')\"\n",
              "              title=\"Convert this dataframe to an interactive table.\"\n",
              "              style=\"display:none;\">\n",
              "        \n",
              "  <svg xmlns=\"http://www.w3.org/2000/svg\" height=\"24px\"viewBox=\"0 0 24 24\"\n",
              "       width=\"24px\">\n",
              "    <path d=\"M0 0h24v24H0V0z\" fill=\"none\"/>\n",
              "    <path d=\"M18.56 5.44l.94 2.06.94-2.06 2.06-.94-2.06-.94-.94-2.06-.94 2.06-2.06.94zm-11 1L8.5 8.5l.94-2.06 2.06-.94-2.06-.94L8.5 2.5l-.94 2.06-2.06.94zm10 10l.94 2.06.94-2.06 2.06-.94-2.06-.94-.94-2.06-.94 2.06-2.06.94z\"/><path d=\"M17.41 7.96l-1.37-1.37c-.4-.4-.92-.59-1.43-.59-.52 0-1.04.2-1.43.59L10.3 9.45l-7.72 7.72c-.78.78-.78 2.05 0 2.83L4 21.41c.39.39.9.59 1.41.59.51 0 1.02-.2 1.41-.59l7.78-7.78 2.81-2.81c.8-.78.8-2.07 0-2.86zM5.41 20L4 18.59l7.72-7.72 1.47 1.35L5.41 20z\"/>\n",
              "  </svg>\n",
              "      </button>\n",
              "      \n",
              "  <style>\n",
              "    .colab-df-container {\n",
              "      display:flex;\n",
              "      flex-wrap:wrap;\n",
              "      gap: 12px;\n",
              "    }\n",
              "\n",
              "    .colab-df-convert {\n",
              "      background-color: #E8F0FE;\n",
              "      border: none;\n",
              "      border-radius: 50%;\n",
              "      cursor: pointer;\n",
              "      display: none;\n",
              "      fill: #1967D2;\n",
              "      height: 32px;\n",
              "      padding: 0 0 0 0;\n",
              "      width: 32px;\n",
              "    }\n",
              "\n",
              "    .colab-df-convert:hover {\n",
              "      background-color: #E2EBFA;\n",
              "      box-shadow: 0px 1px 2px rgba(60, 64, 67, 0.3), 0px 1px 3px 1px rgba(60, 64, 67, 0.15);\n",
              "      fill: #174EA6;\n",
              "    }\n",
              "\n",
              "    [theme=dark] .colab-df-convert {\n",
              "      background-color: #3B4455;\n",
              "      fill: #D2E3FC;\n",
              "    }\n",
              "\n",
              "    [theme=dark] .colab-df-convert:hover {\n",
              "      background-color: #434B5C;\n",
              "      box-shadow: 0px 1px 3px 1px rgba(0, 0, 0, 0.15);\n",
              "      filter: drop-shadow(0px 1px 2px rgba(0, 0, 0, 0.3));\n",
              "      fill: #FFFFFF;\n",
              "    }\n",
              "  </style>\n",
              "\n",
              "      <script>\n",
              "        const buttonEl =\n",
              "          document.querySelector('#df-05d2e00f-2580-4de9-92c2-c21395dba96f button.colab-df-convert');\n",
              "        buttonEl.style.display =\n",
              "          google.colab.kernel.accessAllowed ? 'block' : 'none';\n",
              "\n",
              "        async function convertToInteractive(key) {\n",
              "          const element = document.querySelector('#df-05d2e00f-2580-4de9-92c2-c21395dba96f');\n",
              "          const dataTable =\n",
              "            await google.colab.kernel.invokeFunction('convertToInteractive',\n",
              "                                                     [key], {});\n",
              "          if (!dataTable) return;\n",
              "\n",
              "          const docLinkHtml = 'Like what you see? Visit the ' +\n",
              "            '<a target=\"_blank\" href=https://colab.research.google.com/notebooks/data_table.ipynb>data table notebook</a>'\n",
              "            + ' to learn more about interactive tables.';\n",
              "          element.innerHTML = '';\n",
              "          dataTable['output_type'] = 'display_data';\n",
              "          await google.colab.output.renderOutput(dataTable, element);\n",
              "          const docLink = document.createElement('div');\n",
              "          docLink.innerHTML = docLinkHtml;\n",
              "          element.appendChild(docLink);\n",
              "        }\n",
              "      </script>\n",
              "    </div>\n",
              "  </div>\n",
              "  "
            ]
          },
          "metadata": {},
          "execution_count": 9
        }
      ]
    },
    {
      "cell_type": "code",
      "source": [
        "from google.colab import drive\n",
        "drive.mount('/content/drive')"
      ],
      "metadata": {
        "colab": {
          "base_uri": "https://localhost:8080/"
        },
        "id": "XOZRM1nGL2cZ",
        "outputId": "64bbe00b-5a70-4458-c226-20be8c1acdca"
      },
      "execution_count": null,
      "outputs": [
        {
          "output_type": "stream",
          "name": "stdout",
          "text": [
            "Drive already mounted at /content/drive; to attempt to forcibly remount, call drive.mount(\"/content/drive\", force_remount=True).\n"
          ]
        }
      ]
    },
    {
      "cell_type": "code",
      "source": [
        "from openai.embeddings_utils import get_embedding\n",
        "import time\n",
        "\n",
        "# This will take just under 10 minutes\n",
        "#df_twitter['babbage_similarity'] = df_twitter['CleanText'].apply(lambda x: get_embedding(x, engine='text-similarity-babbage-001'))\n",
        "'''\n",
        "df['babbage_similarity'] = df.combined.apply(lambda x: get_embedding(x, engine='text-similarity-babbage-001'))\n",
        "df['babbage_search'] = df.combined.apply(lambda x: get_embedding(x, engine='text-search-babbage-doc-001'))\n",
        "df.to_csv('data/fine_food_reviews_with_embeddings_1k.csv')'''\n",
        "\n",
        "similarity_list = []\n",
        "search_list = []\n",
        "\n",
        "for ii, row in df_twitter.iterrows():\n",
        "  res = get_embedding(df_twitter['CleanText'][ii], engine='text-similarity-babbage-001')\n",
        "  similarity_list.append(res)\n",
        "  time.sleep(1.5)\n"
      ],
      "metadata": {
        "id": "_eC7_mwl5zmp"
      },
      "execution_count": null,
      "outputs": []
    },
    {
      "cell_type": "code",
      "source": [
        "'''len(similarity_list)\n",
        "\n",
        "for ii, row in df_twitter.iterrows():\n",
        "  search_list.append(get_embedding(df_twitter['CleanText'][ii], engine='text-search-babbage-doc-001'))\n",
        "  time.sleep(1.5)'''"
      ],
      "metadata": {
        "id": "Puqi60ZxdsUU"
      },
      "execution_count": null,
      "outputs": []
    },
    {
      "cell_type": "code",
      "source": [
        "df_similarity_list = pd.Series(similarity_list)\n",
        "#df_search_list = pd.Series(search_list)\n",
        "\n",
        "df_twitter['babbage_similarity'] = df_similarity_list\n",
        "#df_twitter['babbage_search'] = df_search_list\n",
        "\n",
        "df_twitter.to_csv('/content/drive/MyDrive/AAA/fine_disaster_tweets_with_embeddings_1k.csv')\n",
        "df_twitter.to_csv('fine_disaster_tweets_with_embeddings_1k.csv')"
      ],
      "metadata": {
        "id": "_udVoh3zwMYH"
      },
      "execution_count": null,
      "outputs": []
    },
    {
      "cell_type": "code",
      "source": [
        "df_twitter['sentiment'] = df_twitter['target'].replace({0:'negative',1:'positive'})"
      ],
      "metadata": {
        "id": "dLrQmaWOKMZo"
      },
      "execution_count": null,
      "outputs": []
    },
    {
      "cell_type": "code",
      "source": [
        "import pandas as pd\n",
        "import numpy as np\n",
        "\n",
        "from sklearn.ensemble import RandomForestClassifier\n",
        "from sklearn.model_selection import train_test_split\n",
        "from sklearn.metrics import classification_report, accuracy_score\n",
        "\n",
        "df = pd.read_csv(\"fine_disaster_tweets_with_embeddings_1k.csv\")\n",
        "df[\"babbage_similarity\"] = df.babbage_similarity.apply(eval).apply(np.array)\n",
        "\n",
        "df['sentiment'] = df['target'].replace({0:'negative',1:'positive'})\n",
        "\n",
        "X_train, X_test, y_train, y_test = train_test_split(list(df.babbage_similarity.values), df.sentiment, test_size=0.2, random_state=42)\n",
        "\n",
        "clf = RandomForestClassifier(n_estimators=100)\n",
        "clf.fit(X_train, y_train)\n",
        "preds = clf.predict(X_test)\n",
        "\n",
        "report = classification_report(y_test, preds)\n",
        "print(report)"
      ],
      "metadata": {
        "colab": {
          "base_uri": "https://localhost:8080/"
        },
        "id": "6jQzlxNyhnUZ",
        "outputId": "bb153f4a-d347-4b20-bb12-1387ff88f536"
      },
      "execution_count": null,
      "outputs": [
        {
          "output_type": "stream",
          "name": "stdout",
          "text": [
            "              precision    recall  f1-score   support\n",
            "\n",
            "    negative       0.80      0.93      0.86       874\n",
            "    positive       0.88      0.69      0.77       649\n",
            "\n",
            "    accuracy                           0.83      1523\n",
            "   macro avg       0.84      0.81      0.82      1523\n",
            "weighted avg       0.83      0.83      0.82      1523\n",
            "\n"
          ]
        }
      ]
    }
  ]
}
